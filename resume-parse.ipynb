{
 "cells": [
  {
   "cell_type": "code",
   "execution_count": 1,
   "metadata": {
    "collapsed": false
   },
   "outputs": [
    {
     "name": "stdout",
     "output_type": "stream",
     "text": [
      "[('and', 43), ('the', 33), ('to', 19), ('data', 19), ('of', 19), ('in', 18), ('a', 14), ('on', 10), ('with', 10), ('testing', 9), ('that', 9), ('chicago', 8), ('il', 8), ('system', 7), ('database', 7), ('technology', 7), ('analysis', 7), ('business', 7), ('test', 7), ('manager', 6), ('institute', 6), ('from', 6), ('illinois', 6), ('fall', 5), ('information', 5), ('2015', 5), ('management', 5), ('mining', 5), ('records', 5), ('using', 5)]\n"
     ]
    },
    {
     "name": "stderr",
     "output_type": "stream",
     "text": [
      "C:\\Users\\Praveen\\Anaconda\\lib\\site-packages\\matplotlib\\axes\\_axes.py:475: UserWarning: No labelled objects found. Use label='...' kwarg on individual plots.\n",
      "  warnings.warn(\"No labelled objects found. \"\n"
     ]
    }
   ],
   "source": [
    "import re\n",
    "from collections import Counter\n",
    "import numpy as np\n",
    "import matplotlib.pyplot as plt\n",
    "'''Strips punctuation and whitespace'''\n",
    "words = re.findall('\\w+', open('resume.txt').read().lower()) \n",
    "c = Counter(words).most_common(30)\n",
    "print c\n",
    "words = [x[0] for x in c]\n",
    "values = [int(x[1]) for x in c]\n",
    "words = tuple(words)\n",
    "values = tuple(values)\n",
    "indexes = np.arange(len(words))\n",
    "width = 1\n",
    "plt.bar(indexes, values, width, color = 'green', alpha = 0.4)\n",
    "plt.xticks(indexes + width * 0.5, words)\n",
    "plt.setp(plt.xticks()[1], rotation=45)\n",
    "plt.xlabel('Word Index')\n",
    "plt.ylabel('Frequency')\n",
    "plt.title('Word Frequency Chart')\n",
    "plt.legend()\n",
    "plt.tight_layout()\n",
    "\n",
    "plt.show()"
   ]
  },
  {
   "cell_type": "code",
   "execution_count": null,
   "metadata": {
    "collapsed": true
   },
   "outputs": [],
   "source": []
  }
 ],
 "metadata": {
  "kernelspec": {
   "display_name": "Python 2",
   "language": "python",
   "name": "python2"
  },
  "language_info": {
   "codemirror_mode": {
    "name": "ipython",
    "version": 2
   },
   "file_extension": ".py",
   "mimetype": "text/x-python",
   "name": "python",
   "nbconvert_exporter": "python",
   "pygments_lexer": "ipython2",
   "version": "2.7.10"
  }
 },
 "nbformat": 4,
 "nbformat_minor": 0
}
